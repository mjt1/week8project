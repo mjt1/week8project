{
 "cells": [
  {
   "cell_type": "code",
   "execution_count": 3,
   "id": "ed45f63e",
   "metadata": {},
   "outputs": [],
   "source": [
    "# COVID‑19 Global Data Tracker\n",
    "\n",
    "# *Date:* YYYY‑MM‑DD  \n",
    "# *Author:* Mercylyne \n",
    "\n",
    "\n",
    "\n",
    "## 1. Imports & Settings\n",
    "\n",
    "\n",
    "import pandas as pd\n",
    "import matplotlib.pyplot as plt\n",
    "import seaborn as sns\n",
    "# optional for maps:\n",
    "import plotly.express as px\n",
    "import geopandas as gpd\n",
    "\n",
    "# global plot settings\n",
    "plt.rcParams['figure.figsize'] = (12, 6)\n",
    "\n"
   ]
  },
  {
   "cell_type": "code",
   "execution_count": 4,
   "id": "78a7c09e",
   "metadata": {},
   "outputs": [
    {
     "name": "stdout",
     "output_type": "stream",
     "text": [
      "<class 'pandas.core.frame.DataFrame'>\n",
      "RangeIndex: 350085 entries, 0 to 350084\n",
      "Data columns (total 67 columns):\n",
      " #   Column                                      Non-Null Count   Dtype         \n",
      "---  ------                                      --------------   -----         \n",
      " 0   iso_code                                    350085 non-null  object        \n",
      " 1   continent                                   333420 non-null  object        \n",
      " 2   location                                    350085 non-null  object        \n",
      " 3   date                                        350085 non-null  datetime64[ns]\n",
      " 4   total_cases                                 312088 non-null  float64       \n",
      " 5   new_cases                                   340457 non-null  float64       \n",
      " 6   new_cases_smoothed                          339198 non-null  float64       \n",
      " 7   total_deaths                                290501 non-null  float64       \n",
      " 8   new_deaths                                  340511 non-null  float64       \n",
      " 9   new_deaths_smoothed                         339281 non-null  float64       \n",
      " 10  total_cases_per_million                     312088 non-null  float64       \n",
      " 11  new_cases_per_million                       340457 non-null  float64       \n",
      " 12  new_cases_smoothed_per_million              339198 non-null  float64       \n",
      " 13  total_deaths_per_million                    290501 non-null  float64       \n",
      " 14  new_deaths_per_million                      340511 non-null  float64       \n",
      " 15  new_deaths_smoothed_per_million             339281 non-null  float64       \n",
      " 16  reproduction_rate                           184817 non-null  float64       \n",
      " 17  icu_patients                                37615 non-null   float64       \n",
      " 18  icu_patients_per_million                    37615 non-null   float64       \n",
      " 19  hosp_patients                               38902 non-null   float64       \n",
      " 20  hosp_patients_per_million                   38902 non-null   float64       \n",
      " 21  weekly_icu_admissions                       10205 non-null   float64       \n",
      " 22  weekly_icu_admissions_per_million           10205 non-null   float64       \n",
      " 23  weekly_hosp_admissions                      23253 non-null   float64       \n",
      " 24  weekly_hosp_admissions_per_million          23253 non-null   float64       \n",
      " 25  total_tests                                 79387 non-null   float64       \n",
      " 26  new_tests                                   75403 non-null   float64       \n",
      " 27  total_tests_per_thousand                    79387 non-null   float64       \n",
      " 28  new_tests_per_thousand                      75403 non-null   float64       \n",
      " 29  new_tests_smoothed                          103965 non-null  float64       \n",
      " 30  new_tests_smoothed_per_thousand             103965 non-null  float64       \n",
      " 31  positive_rate                               95927 non-null   float64       \n",
      " 32  tests_per_case                              94348 non-null   float64       \n",
      " 33  tests_units                                 106788 non-null  object        \n",
      " 34  total_vaccinations                          79308 non-null   float64       \n",
      " 35  people_vaccinated                           75911 non-null   float64       \n",
      " 36  people_fully_vaccinated                     72575 non-null   float64       \n",
      " 37  total_boosters                              47562 non-null   float64       \n",
      " 38  new_vaccinations                            65346 non-null   float64       \n",
      " 39  new_vaccinations_smoothed                   180718 non-null  float64       \n",
      " 40  total_vaccinations_per_hundred              79308 non-null   float64       \n",
      " 41  people_vaccinated_per_hundred               75911 non-null   float64       \n",
      " 42  people_fully_vaccinated_per_hundred         72575 non-null   float64       \n",
      " 43  total_boosters_per_hundred                  47562 non-null   float64       \n",
      " 44  new_vaccinations_smoothed_per_million       180718 non-null  float64       \n",
      " 45  new_people_vaccinated_smoothed              180489 non-null  float64       \n",
      " 46  new_people_vaccinated_smoothed_per_hundred  180489 non-null  float64       \n",
      " 47  stringency_index                            197651 non-null  float64       \n",
      " 48  population_density                          297178 non-null  float64       \n",
      " 49  median_age                                  276367 non-null  float64       \n",
      " 50  aged_65_older                               266708 non-null  float64       \n",
      " 51  aged_70_older                               273597 non-null  float64       \n",
      " 52  gdp_per_capita                              270863 non-null  float64       \n",
      " 53  extreme_poverty                             174561 non-null  float64       \n",
      " 54  cardiovasc_death_rate                       271487 non-null  float64       \n",
      " 55  diabetes_prevalence                         285303 non-null  float64       \n",
      " 56  female_smokers                              203659 non-null  float64       \n",
      " 57  male_smokers                                200889 non-null  float64       \n",
      " 58  handwashing_facilities                      132973 non-null  float64       \n",
      " 59  hospital_beds_per_thousand                  239669 non-null  float64       \n",
      " 60  life_expectancy                             322072 non-null  float64       \n",
      " 61  human_development_index                     263138 non-null  float64       \n",
      " 62  population                                  350085 non-null  float64       \n",
      " 63  excess_mortality_cumulative_absolute        12184 non-null   float64       \n",
      " 64  excess_mortality_cumulative                 12184 non-null   float64       \n",
      " 65  excess_mortality                            12184 non-null   float64       \n",
      " 66  excess_mortality_cumulative_per_million     12184 non-null   float64       \n",
      "dtypes: datetime64[ns](1), float64(62), object(4)\n",
      "memory usage: 179.0+ MB\n"
     ]
    },
    {
     "data": {
      "text/plain": [
       "iso_code                                        0\n",
       "continent                                   16665\n",
       "location                                        0\n",
       "date                                            0\n",
       "total_cases                                 37997\n",
       "                                            ...  \n",
       "population                                      0\n",
       "excess_mortality_cumulative_absolute       337901\n",
       "excess_mortality_cumulative                337901\n",
       "excess_mortality                           337901\n",
       "excess_mortality_cumulative_per_million    337901\n",
       "Length: 67, dtype: int64"
      ]
     },
     "execution_count": 4,
     "metadata": {},
     "output_type": "execute_result"
    }
   ],
   "source": [
    "# 2.1 Load OWID data\n",
    "df = pd.read_csv('owid-covid-data.csv', parse_dates=['date'])\n",
    "\n",
    "# 2.2 Peek at the data\n",
    "df.head()\n",
    "df.info()\n",
    "df.isnull().sum()"
   ]
  },
  {
   "cell_type": "code",
   "execution_count": 5,
   "id": "27f1791b",
   "metadata": {},
   "outputs": [],
   "source": [
    "# 3. Data Cleaning\n",
    "# 3.1 Filter to key countries\n",
    "countries = ['Kenya', 'United States', 'India']\n",
    "df_sel = df[df['location'].isin(countries)].copy()\n",
    "\n",
    "# 3.2 Drop rows without dates or total_cases\n",
    "df_sel.dropna(subset=['date', 'total_cases'], inplace=True)\n",
    "\n",
    "# 3.3 Fill / interpolate missing values\n",
    "df_sel[['new_cases', 'new_deaths']] = df_sel[['new_cases', 'new_deaths']].interpolate()\n"
   ]
  },
  {
   "cell_type": "code",
   "execution_count": 6,
   "id": "c86ce891",
   "metadata": {},
   "outputs": [
    {
     "data": {
      "image/png": "[encoded data removed]",
      "text/plain": [
       "<Figure size 1200x600 with 1 Axes>"
      ]
     },
     "metadata": {},
     "output_type": "display_data"
    },
    {
     "data": {
      "image/png": "[encoded data removed]",
      "text/plain": [
       "<Figure size 1200x600 with 1 Axes>"
      ]
     },
     "metadata": {},
     "output_type": "display_data"
    }
   ],
   "source": [
    "# 4. Exploratory Data Analysis (EDA)\n",
    "# 4.1 Total cases over time\n",
    "sns.lineplot(data=df_sel, x='date', y='total_cases', hue='location')\n",
    "plt.title('Total COVID‑19 Cases Over Time')\n",
    "plt.show()\n",
    "\n",
    "# 4.2 Death rate\n",
    "df_sel['death_rate'] = df_sel['total_deaths'] / df_sel['total_cases']\n",
    "sns.lineplot(data=df_sel, x='date', y='death_rate', hue='location')\n",
    "plt.title('COVID‑19 Death Rate Over Time')\n",
    "plt.show()\n"
   ]
  },
  {
   "cell_type": "code",
   "execution_count": 7,
   "id": "0a3c1913",
   "metadata": {},
   "outputs": [
    {
     "data": {
      "image/png": "[encoded data removed]",
      "text/plain": [
       "<Figure size 1200x600 with 1 Axes>"
      ]
     },
     "metadata": {},
     "output_type": "display_data"
    }
   ],
   "source": [
    "#5. Vaccination Progress\n",
    "sns.lineplot(data=df_sel, x='date', y='total_vaccinations', hue='location')\n",
    "plt.title('Cumulative Vaccinations Over Time')\n",
    "plt.show()\n"
   ]
  },
  {
   "cell_type": "code",
   "execution_count": null,
   "id": "b53a88ea",
   "metadata": {},
   "outputs": [
    {
     "data": {
      "application/vnd.plotly.v1+json": {
       "config": {
        "plotlyServerURL": "https://plot.ly"
       },
       "data": [
        {
         "coloraxis": "coloraxis",
         "geo": "geo",
         "hovertemplate": "<b>%{hovertext}</b><br><br>iso_code=%{location}<br>total_cases=%{z}<extra></extra>",
         "hovertext": [
          "NLD",
          "SWE"
         ],
         "locations": [
          "NLD",
          "SWE"
         ],
         "name": "",
         "type": "choropleth",
         "z": {
          "bdata": "AAAAAAAA+H8AAAAAAAD4fw==",
          "dtype": "f8"
         }
        }
       ],
       "layout": {
        "coloraxis": {
         "colorbar": {
          "title": {
           "text": "total_cases"
          }
         },
         "colorscale": [
          [
           0,
           "#440154"
          ],
          [
           0.1111111111111111,
           "#482878"
          ],
          [
           0.2222222222222222,
           "#3e4989"
          ],
          [
           0.3333333333333333,
           "#31688e"
          ],
          [
           0.4444444444444444,
           "#26828e"
          ],
          [
           0.5555555555555556,
           "#1f9e89"
          ],
          [
           0.6666666666666666,
           "#35b779"
          ],
          [
           0.7777777777777778,
           "#6ece58"
          ],
          [
           0.8888888888888888,
           "#b5de2b"
          ],
          [
           1,
           "#fde725"
          ]
         ]
        },
        "geo": {
         "center": {},
         "domain": {
          "x": [
           0,
           1
          ],
          "y": [
           0,
           1
          ]
         },
         "projection": {
          "type": "natural earth"
         }
        },
        "legend": {
         "tracegroupgap": 0
        },
        "template": {
         "data": {
          "bar": [
           {
            "error_x": {
             "color": "#2a3f5f"
            },
            "error_y": {
             "color": "#2a3f5f"
            },
            "marker": {
             "line": {
              "color": "#E5ECF6",
              "width": 0.5
             },
             "pattern": {
              "fillmode": "overlay",
              "size": 10,
              "solidity": 0.2
             }
            },
            "type": "bar"
           }
          ],
          "barpolar": [
           {
            "marker": {
             "line": {
              "color": "#E5ECF6",
              "width": 0.5
             },
             "pattern": {
              "fillmode": "overlay",
              "size": 10,
              "solidity": 0.2
             }
            },
            "type": "barpolar"
           }
          ],
          "carpet": [
           {
            "aaxis": {
             "endlinecolor": "#2a3f5f",
             "gridcolor": "white",
             "linecolor": "white",
             "minorgridcolor": "white",
             "startlinecolor": "#2a3f5f"
            },
            "baxis": {
             "endlinecolor": "#2a3f5f",
             "gridcolor": "white",
             "linecolor": "white",
             "minorgridcolor": "white",
             "startlinecolor": "#2a3f5f"
            },
            "type": "carpet"
           }
          ],
          "choropleth": [
           {
            "colorbar": {
             "outlinewidth": 0,
             "ticks": ""
            },
            "type": "choropleth"
           }
          ],
          "contour": [
           {
            "colorbar": {
             "outlinewidth": 0,
             "ticks": ""
            },
            "colorscale": [
             [
              0,
              "#0d0887"
             ],
             [
              0.1111111111111111,
              "#46039f"
             ],
             [
              0.2222222222222222,
              "#7201a8"
             ],
             [
              0.3333333333333333,
              "#9c179e"
             ],
             [
              0.4444444444444444,
              "#bd3786"
             ],
             [
              0.5555555555555556,
              "#d8576b"
             ],
             [
              0.6666666666666666,
              "#ed7953"
             ],
             [
              0.7777777777777778,
              "#fb9f3a"
             ],
             [
              0.8888888888888888,
              "#fdca26"
             ],
             [
              1,
              "#f0f921"
             ]
            ],
            "type": "contour"
           }
          ],
          "contourcarpet": [
           {
            "colorbar": {
             "outlinewidth": 0,
             "ticks": ""
            },
            "type": "contourcarpet"
           }
          ],
          "heatmap": [
           {
            "colorbar": {
             "outlinewidth": 0,
             "ticks": ""
            },
            "colorscale": [
             [
              0,
              "#0d0887"
             ],
             [
              0.1111111111111111,
              "#46039f"
             ],
             [
              0.2222222222222222,
              "#7201a8"
             ],
             [
              0.3333333333333333,
              "#9c179e"
             ],
             [
              0.4444444444444444,
              "#bd3786"
             ],
             [
              0.5555555555555556,
              "#d8576b"
             ],
             [
              0.6666666666666666,
              "#ed7953"
             ],
             [
              0.7777777777777778,
              "#fb9f3a"
             ],
             [
              0.8888888888888888,
              "#fdca26"
             ],
             [
              1,
              "#f0f921"
             ]
            ],
            "type": "heatmap"
           }
          ],
          "histogram": [
           {
            "marker": {
             "pattern": {
              "fillmode": "overlay",
              "size": 10,
              "solidity": 0.2
             }
            },
            "type": "histogram"
           }
          ],
          "histogram2d": [
           {
            "colorbar": {
             "outlinewidth": 0,
             "ticks": ""
            },
            "colorscale": [
             [
              0,
              "#0d0887"
             ],
             [
              0.1111111111111111,
              "#46039f"
             ],
             [
              0.2222222222222222,
              "#7201a8"
             ],
             [
              0.3333333333333333,
              "#9c179e"
             ],
             [
              0.4444444444444444,
              "#bd3786"
             ],
             [
              0.5555555555555556,
              "#d8576b"
             ],
             [
              0.6666666666666666,
              "#ed7953"
             ],
             [
              0.7777777777777778,
              "#fb9f3a"
             ],
             [
              0.8888888888888888,
              "#fdca26"
             ],
             [
              1,
              "#f0f921"
             ]
            ],
            "type": "histogram2d"
           }
          ],
          "histogram2dcontour": [
           {
            "colorbar": {
             "outlinewidth": 0,
             "ticks": ""
            },
            "colorscale": [
             [
              0,
              "#0d0887"
             ],
             [
              0.1111111111111111,
              "#46039f"
             ],
             [
              0.2222222222222222,
              "#7201a8"
             ],
             [
              0.3333333333333333,
              "#9c179e"
             ],
             [
              0.4444444444444444,
              "#bd3786"
             ],
             [
              0.5555555555555556,
              "#d8576b"
             ],
             [
              0.6666666666666666,
              "#ed7953"
             ],
             [
              0.7777777777777778,
              "#fb9f3a"
             ],
             [
              0.8888888888888888,
              "#fdca26"
             ],
             [
              1,
              "#f0f921"
             ]
            ],
            "type": "histogram2dcontour"
           }
          ],
          "mesh3d": [
           {
            "colorbar": {
             "outlinewidth": 0,
             "ticks": ""
            },
            "type": "mesh3d"
           }
          ],
          "parcoords": [
           {
            "line": {
             "colorbar": {
              "outlinewidth": 0,
              "ticks": ""
             }
            },
            "type": "parcoords"
           }
          ],
          "pie": [
           {
            "automargin": true,
            "type": "pie"
           }
          ],
          "scatter": [
           {
            "fillpattern": {
             "fillmode": "overlay",
             "size": 10,
             "solidity": 0.2
            },
            "type": "scatter"
           }
          ],
          "scatter3d": [
           {
            "line": {
             "colorbar": {
              "outlinewidth": 0,
              "ticks": ""
             }
            },
            "marker": {
             "colorbar": {
              "outlinewidth": 0,
              "ticks": ""
             }
            },
            "type": "scatter3d"
           }
          ],
          "scattercarpet": [
           {
            "marker": {
             "colorbar": {
              "outlinewidth": 0,
              "ticks": ""
             }
            },
            "type": "scattercarpet"
           }
          ],
          "scattergeo": [
           {
            "marker": {
             "colorbar": {
              "outlinewidth": 0,
              "ticks": ""
             }
            },
            "type": "scattergeo"
           }
          ],
          "scattergl": [
           {
            "marker": {
             "colorbar": {
              "outlinewidth": 0,
              "ticks": ""
             }
            },
            "type": "scattergl"
           }
          ],
          "scattermap": [
           {
            "marker": {
             "colorbar": {
              "outlinewidth": 0,
              "ticks": ""
             }
            },
            "type": "scattermap"
           }
          ],
          "scattermapbox": [
           {
            "marker": {
             "colorbar": {
              "outlinewidth": 0,
              "ticks": ""
             }
            },
            "type": "scattermapbox"
           }
          ],
          "scatterpolar": [
           {
            "marker": {
             "colorbar": {
              "outlinewidth": 0,
              "ticks": ""
             }
            },
            "type": "scatterpolar"
           }
          ],
          "scatterpolargl": [
           {
            "marker": {
             "colorbar": {
              "outlinewidth": 0,
              "ticks": ""
             }
            },
            "type": "scatterpolargl"
           }
          ],
          "scatterternary": [
           {
            "marker": {
             "colorbar": {
              "outlinewidth": 0,
              "ticks": ""
             }
            },
            "type": "scatterternary"
           }
          ],
          "surface": [
           {
            "colorbar": {
             "outlinewidth": 0,
             "ticks": ""
            },
            "colorscale": [
             [
              0,
              "#0d0887"
             ],
             [
              0.1111111111111111,
              "#46039f"
             ],
             [
              0.2222222222222222,
              "#7201a8"
             ],
             [
              0.3333333333333333,
              "#9c179e"
             ],
             [
              0.4444444444444444,
              "#bd3786"
             ],
             [
              0.5555555555555556,
              "#d8576b"
             ],
             [
              0.6666666666666666,
              "#ed7953"
             ],
             [
              0.7777777777777778,
              "#fb9f3a"
             ],
             [
              0.8888888888888888,
              "#fdca26"
             ],
             [
              1,
              "#f0f921"
             ]
            ],
            "type": "surface"
           }
          ],
          "table": [
           {
            "cells": {
             "fill": {
              "color": "#EBF0F8"
             },
             "line": {
              "color": "white"
             }
            },
            "header": {
             "fill": {
              "color": "#C8D4E3"
             },
             "line": {
              "color": "white"
             }
            },
            "type": "table"
           }
          ]
         },
         "layout": {
          "annotationdefaults": {
           "arrowcolor": "#2a3f5f",
           "arrowhead": 0,
           "arrowwidth": 1
          },
          "autotypenumbers": "strict",
          "coloraxis": {
           "colorbar": {
            "outlinewidth": 0,
            "ticks": ""
           }
          },
          "colorscale": {
           "diverging": [
            [
             0,
             "#8e0152"
            ],
            [
             0.1,
             "#c51b7d"
            ],
            [
             0.2,
             "#de77ae"
            ],
            [
             0.3,
             "#f1b6da"
            ],
            [
             0.4,
             "#fde0ef"
            ],
            [
             0.5,
             "#f7f7f7"
            ],
            [
             0.6,
             "#e6f5d0"
            ],
            [
             0.7,
             "#b8e186"
            ],
            [
             0.8,
             "#7fbc41"
            ],
            [
             0.9,
             "#4d9221"
            ],
            [
             1,
             "#276419"
            ]
           ],
           "sequential": [
            [
             0,
             "#0d0887"
            ],
            [
             0.1111111111111111,
             "#46039f"
            ],
            [
             0.2222222222222222,
             "#7201a8"
            ],
            [
             0.3333333333333333,
             "#9c179e"
            ],
            [
             0.4444444444444444,
             "#bd3786"
            ],
            [
             0.5555555555555556,
             "#d8576b"
            ],
            [
             0.6666666666666666,
             "#ed7953"
            ],
            [
             0.7777777777777778,
             "#fb9f3a"
            ],
            [
             0.8888888888888888,
             "#fdca26"
            ],
            [
             1,
             "#f0f921"
            ]
           ],
           "sequentialminus": [
            [
             0,
             "#0d0887"
            ],
            [
             0.1111111111111111,
             "#46039f"
            ],
            [
             0.2222222222222222,
             "#7201a8"
            ],
            [
             0.3333333333333333,
             "#9c179e"
            ],
            [
             0.4444444444444444,
             "#bd3786"
            ],
            [
             0.5555555555555556,
             "#d8576b"
            ],
            [
             0.6666666666666666,
             "#ed7953"
            ],
            [
             0.7777777777777778,
             "#fb9f3a"
            ],
            [
             0.8888888888888888,
             "#fdca26"
            ],
            [
             1,
             "#f0f921"
            ]
           ]
          },
          "colorway": [
           "#636efa",
           "#EF553B",
           "#00cc96",
           "#ab63fa",
           "#FFA15A",
           "#19d3f3",
           "#FF6692",
           "#B6E880",
           "#FF97FF",
           "#FECB52"
          ],
          "font": {
           "color": "#2a3f5f"
          },
          "geo": {
           "bgcolor": "white",
           "lakecolor": "white",
           "landcolor": "#E5ECF6",
           "showlakes": true,
           "showland": true,
           "subunitcolor": "white"
          },
          "hoverlabel": {
           "align": "left"
          },
          "hovermode": "closest",
          "mapbox": {
           "style": "light"
          },
          "paper_bgcolor": "white",
          "plot_bgcolor": "#E5ECF6",
          "polar": {
           "angularaxis": {
            "gridcolor": "white",
            "linecolor": "white",
            "ticks": ""
           },
           "bgcolor": "#E5ECF6",
           "radialaxis": {
            "gridcolor": "white",
            "linecolor": "white",
            "ticks": ""
           }
          },
          "scene": {
           "xaxis": {
            "backgroundcolor": "#E5ECF6",
            "gridcolor": "white",
            "gridwidth": 2,
            "linecolor": "white",
            "showbackground": true,
            "ticks": "",
            "zerolinecolor": "white"
           },
           "yaxis": {
            "backgroundcolor": "#E5ECF6",
            "gridcolor": "white",
            "gridwidth": 2,
            "linecolor": "white",
            "showbackground": true,
            "ticks": "",
            "zerolinecolor": "white"
           },
           "zaxis": {
            "backgroundcolor": "#E5ECF6",
            "gridcolor": "white",
            "gridwidth": 2,
            "linecolor": "white",
            "showbackground": true,
            "ticks": "",
            "zerolinecolor": "white"
           }
          },
          "shapedefaults": {
           "line": {
            "color": "#2a3f5f"
           }
          },
          "ternary": {
           "aaxis": {
            "gridcolor": "white",
            "linecolor": "white",
            "ticks": ""
           },
           "baxis": {
            "gridcolor": "white",
            "linecolor": "white",
            "ticks": ""
           },
           "bgcolor": "#E5ECF6",
           "caxis": {
            "gridcolor": "white",
            "linecolor": "white",
            "ticks": ""
           }
          },
          "title": {
           "x": 0.05
          },
          "xaxis": {
           "automargin": true,
           "gridcolor": "white",
           "linecolor": "white",
           "ticks": "",
           "title": {
            "standoff": 15
           },
           "zerolinecolor": "white",
           "zerolinewidth": 2
          },
          "yaxis": {
           "automargin": true,
           "gridcolor": "white",
           "linecolor": "white",
           "ticks": "",
           "title": {
            "standoff": 15
           },
           "zerolinecolor": "white",
           "zerolinewidth": 2
          }
         }
        },
        "title": {
         "text": "Global COVID-19 Cases as of 2023-10-24"
        }
       }
      }
     },
     "metadata": {},
     "output_type": "display_data"
    }
   ],
   "source": [
    "# 6. Chloropleth Map\n",
    "import pandas as pd\n",
    "import plotly.express as px\n",
    "\n",
    "# 1. Get the latest total_cases per country\n",
    "latest = (\n",
    "    df\n",
    "    .loc[df['date'] == df['date'].max(), ['iso_code', 'total_cases']]\n",
    "    .dropna(subset=['iso_code'])\n",
    ")\n",
    "\n",
    "# 2. Build the choropleth with Plotly Express\n",
    "fig = px.choropleth(\n",
    "    latest,\n",
    "    locations='iso_code',       # ISO-3 country codes\n",
    "    color='total_cases',        # data to color by\n",
    "    hover_name='iso_code',      # show ISO code on hover\n",
    "    color_continuous_scale='Viridis',\n",
    "    projection='natural earth',\n",
    "    title=f\"Global COVID-19 Cases as of {df['date'].max().date()}\",\n",
    ")\n",
    "\n",
    "# 3. Display\n",
    "fig.show()\n",
    "\n"
   ]
  }
 ],
 "metadata": {
  "kernelspec": {
   "display_name": "venv",
   "language": "python",
   "name": "python3"
  },
  "language_info": {
   "codemirror_mode": {
    "name": "ipython",
    "version": 3
   },
   "file_extension": ".py",
   "mimetype": "text/x-python",
   "name": "python",
   "nbconvert_exporter": "python",
   "pygments_lexer": "ipython3",
   "version": "3.10.11"
  }
 },
 "nbformat": 4,
 "nbformat_minor": 5
}
